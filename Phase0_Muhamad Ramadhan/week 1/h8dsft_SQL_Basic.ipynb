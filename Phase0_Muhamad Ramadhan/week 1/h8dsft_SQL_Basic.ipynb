{
 "cells": [
  {
   "cell_type": "code",
   "execution_count": null,
   "metadata": {},
   "outputs": [],
   "source": [
    "SELECT COUNT(*) AS total_subsq1\n",
    "FROM `bigquery-public-data.san_francisco.bikeshare_trips` AS trip\n",
    "JOIN `bigquery-public-data.san_francisco.bikeshare_stations` AS station\n",
    "ON trip.start_station_id = station.station_id\n",
    "WHERE start_date BETWEEN '2016-01-01' AND '2016-03-31'\n",
    "AND subscriber_type = 'Subscriber'\n",
    "AND landmark = 'Redwood City'"
   ]
  },
  {
   "cell_type": "markdown",
   "metadata": {},
   "source": [
    "Big Query 1 "
   ]
  },
  {
   "cell_type": "code",
   "execution_count": null,
   "metadata": {},
   "outputs": [],
   "source": [
    "SELECT COUNT(*) AS total_subs2\n",
    "FROM `bigquery-public-data.san_francisco.bikeshare_trips` AS trip\n",
    "JOIN `bigquery-public-data.san_francisco.bikeshare_stations` AS station\n",
    "ON trip.start_station_id = station.station_id\n",
    "WHERE start_date BETWEEN '2016-04-01' AND '2016-06-30'\n",
    "AND subscriber_type = 'Subscriber'\n",
    "AND landmark = 'Redwood City'"
   ]
  },
  {
   "cell_type": "markdown",
   "metadata": {},
   "source": [
    "Big Query 2"
   ]
  }
 ],
 "metadata": {
  "language_info": {
   "name": "python"
  },
  "orig_nbformat": 4
 },
 "nbformat": 4,
 "nbformat_minor": 2
}
