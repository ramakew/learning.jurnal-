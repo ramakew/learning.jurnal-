{
  "nbformat": 4,
  "nbformat_minor": 0,
  "metadata": {
    "colab": {
      "provenance": []
    },
    "kernelspec": {
      "name": "python3",
      "display_name": "Python 3"
    },
    "language_info": {
      "name": "python"
    }
  },
  "cells": [
    {
      "cell_type": "code",
      "execution_count": 1,
      "metadata": {
        "colab": {
          "base_uri": "https://localhost:8080/"
        },
        "id": "MH7mxhdfPDos",
        "outputId": "08b53adb-48a6-4db6-ef52-b20033a3900b"
      },
      "outputs": [
        {
          "output_type": "stream",
          "name": "stdout",
          "text": [
            "Masukan Suhu Celcius: 36\n",
            "309.15 K\n",
            "96.8 F\n"
          ]
        }
      ],
      "source": [
        "celci = float(input(\"Masukan Suhu Celcius: \"))\n",
        "\n",
        "def Ctok(celci):\n",
        "    return celci + 273.15\n",
        "def Ctof (celci):\n",
        "    return (celci * 9/5) + 32\n",
        "\n",
        "kelvin = Ctok(celci)\n",
        "farenheit = Ctof(celci)\n",
        "print(kelvin, 'K')\n",
        "print(farenheit, 'F')"
      ]
    },
    {
      "cell_type": "code",
      "source": [
        "#input parameter (Celcius dan Farenheit)\n",
        "celci = float (input('Masukan Suhu Celcius:'))\n",
        "faren = float (input('Masukan Suhu Farenheit:'))\n",
        "\n",
        "#Function Temperature (C to F, F to C, C to K, K to C)\n",
        "def  CtoK (celci):\n",
        "    return celci + 273.15\n",
        "\n",
        "def CtoF (celci):\n",
        "    return (celci *(9/5)) + 32\n",
        "\n",
        "def FtoC (faren):\n",
        "    return (faren - 32)* 5/9 \n",
        "\n",
        "def FtoK (faren):\n",
        "    return((faren - 32)/1.8) + 273.15\n",
        "           \n",
        "celcius = FtoC(faren) #Farenheit to Celcius function call\n",
        "kelvin = FtoK(faren)  #Farenheit to Kelvin function call\n",
        "kelvin = CtoK(celci)  #Celcius to Kelvin function call\n",
        "farenheit = CtoF(celci) #Celcius to Farenheit function call\n",
        "\n",
        "#print statment\n",
        "print(kelvin, 'K')\n",
        "print(farenheit, 'F')\n",
        "print(celcius, 'C')\n",
        "print(kelvin, 'K')"
      ],
      "metadata": {
        "colab": {
          "base_uri": "https://localhost:8080/"
        },
        "id": "oejswzsvRUzm",
        "outputId": "9d38ec88-556e-45fe-c455-a93d849992a9"
      },
      "execution_count": 13,
      "outputs": [
        {
          "output_type": "stream",
          "name": "stdout",
          "text": [
            "Masukan Suhu Celcius:20\n",
            "Masukan Suhu Farenheit:40\n",
            "293.15 K\n",
            "68.0 F\n",
            "4.444444444444445 C\n",
            "293.15 K\n"
          ]
        }
      ]
    }
  ]
}